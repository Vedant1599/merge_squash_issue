{
 "cells": [
  {
   "cell_type": "code",
   "execution_count": 1,
   "metadata": {},
   "outputs": [],
   "source": [
    "import yt_dlp\n",
    "\n",
    "def download_youtube_video(url):\n",
    "    \"\"\"\n",
    "    Downloads the YouTube video and names it using its video ID.\n",
    "    \"\"\"\n",
    "    ydl_opts = {\n",
    "        'format': 'best[ext=mp4]',   # Select the best MP4 format\n",
    "        'outtmpl': '%(id)s.mp4',    # Use the video ID as the filename\n",
    "    }\n",
    "    with yt_dlp.YoutubeDL(ydl_opts) as ydl:\n",
    "        ydl.download([url])"
   ]
  },
  {
   "cell_type": "code",
   "execution_count": 2,
   "metadata": {},
   "outputs": [
    {
     "name": "stdout",
     "output_type": "stream",
     "text": [
      "[youtube] Extracting URL: https://www.youtube.com/watch?v=SFnMTHhKdkw\n",
      "[youtube] SFnMTHhKdkw: Downloading webpage\n",
      "[youtube] SFnMTHhKdkw: Downloading tv client config\n",
      "[youtube] SFnMTHhKdkw: Downloading player 2fb6bdf8-main\n",
      "[youtube] SFnMTHhKdkw: Downloading tv player API JSON\n",
      "[youtube] SFnMTHhKdkw: Downloading ios player API JSON\n",
      "[youtube] SFnMTHhKdkw: Downloading m3u8 information\n",
      "[info] SFnMTHhKdkw: Downloading 1 format(s): 18\n",
      "[download] Destination: SFnMTHhKdkw.mp4\n",
      "[download] 100% of   15.21MiB in 00:00:04 at 3.67MiB/s     \n"
     ]
    }
   ],
   "source": [
    "link = 'https://www.youtube.com/watch?v=SFnMTHhKdkw'\n",
    "download_youtube_video(link)"
   ]
  },
  {
   "cell_type": "code",
   "execution_count": null,
   "metadata": {},
   "outputs": [],
   "source": [
    "import cv2\n",
    "import os\n",
    "\n",
    "video_path = 'fQzOilS80ZY.mp4'\n",
    "video_stream = cv2.VideoCapture(video_path)\n",
    "resize_factor = 0  # Resize factor for the video frames\n",
    "fps = video_stream.get(cv2.CAP_PROP_FPS)\n",
    "width = int(video_stream.get(cv2.CAP_PROP_FRAME_WIDTH))\n",
    "height = int(video_stream.get(cv2.CAP_PROP_FRAME_HEIGHT))\n",
    "COALESCE(master_brand_name, 'NULL_BRAND_NAME') AS master_brand_name,\n",
    "        COALESCE(context_os_name, 'NULL_OS') AS context_os_name,\n",
    "frames = []\n",
    "interval = fps // 2\n",
    "\n",
    "frame_count = 0\n",
    "while True:\n",
    "    ret, _frame = video_stream.read()\n",
    "    if not ret:\n",
    "        break\n",
    "\n",
    "    # Read only every interval-th frame\n",
    "    if frame_count % interval == 0:\n",
    "        if resize_factor > 1:\n",
    "            _frame = cv2.resize(_frame, (width, height))\n",
    "        frames.append(_frame)\n",
    "\n",
    "    frame_count += 1\n",
    "video_stream.release()\n",
    "\n",
    "img_dir = video_path.split(\"/\")[-1].split(\".\")[0]\n",
    "image_paths = []\n",
    "if not os.path.exists(img_dir):\n",
    "    os.makedirs(img_dir)\n",
    "for i, frame in enumerate(frames):\n",
    "    img_path = img_dir + f\"/{i}.jpg\"\n",
    "    cv2.imwrite(img_path, frame)\n",
    "    image_paths.append(img_path)"
   ]
  }
 ],
 "metadata": {
  "kernelspec": {
   "display_name": "playground",
   "language": "python",
   "name": "python3"
  },
  "language_info": {
   "codemirror_mode": {
    "name": "ipython",
    "version": 3
   },
   "file_extension": ".py",
   "mimetype": "text/x-python",
   "name": "python",
   "nbconvert_exporter": "python",
   "pygments_lexer": "ipython3",
   "version": "3.11.11"
  }
 },
 "nbformat": 4,
 "nbformat_minor": 2
}
